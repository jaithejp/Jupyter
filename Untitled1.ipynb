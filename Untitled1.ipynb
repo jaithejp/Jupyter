{
 "cells": [
  {
   "cell_type": "code",
   "execution_count": 18,
   "id": "769b91e8-0efe-4c9a-87c6-2cb22117a508",
   "metadata": {},
   "outputs": [
    {
     "name": "stdout",
     "output_type": "stream",
     "text": [
      "                Names  Age  Working_experience_yrs\n",
      "0           Amy White   50                       5\n",
      "1        Jack Stewart   53                       8\n",
      "2  Richard Lauderdale   35                       3\n",
      "3        Sara Johnson   43                      10\n"
     ]
    }
   ],
   "source": [
    "# import pandas as pd\n",
    "\n",
    "# # mployee_names = ['Amy White', 'Jack Stewart', 'Richard Lauderdale', 'Sara Johnson']\n",
    "\n",
    "# # print(type(employee_names))\n",
    "\n",
    "\n",
    "# employee_names = ['Amy White', 'Jack Stewart', 'Richard Lauderdale', 'Sara Johnson']\n",
    "# employee_names_Series = pd.Series(employee_names)\n",
    "# print(employee_names_Series)\n",
    "\n",
    "# last_rows = employees_work_exp.tail()\n",
    "# print(last_rows)\n",
    "\n",
    "\n",
    "import pandas as pd\n",
    "\n",
    "names = pd.Series([\"Amy White\", \"Jack Stewart\", \"Richard Lauderdale\", \"Sara Johnson\"])\n",
    "age = pd.Series([50, 53, 35, 43])\n",
    "working_experience_yrs = pd.Series([5, 8, 3, 10])\n",
    "\n",
    "data = {\n",
    "    \"Names\": names,\n",
    "    \"Age\": age,\n",
    "    \"Working_experience_yrs\": working_experience_yrs\n",
    "}\n",
    "\n",
    "df = pd.DataFrame(data)\n",
    "\n",
    "print(df)\n",
    "\n",
    "\n",
    "# import pandas as pd\n",
    "\n",
    "# employees_work_exp = pd.Series({\n",
    "# 'Amy White'   : 3,\n",
    "# 'Jack Stewart'   : 5,\n",
    "# 'Richard Lauderdale'  : 4.5,\n",
    "# 'Sara Johnson'  : 22,\n",
    "# 'Patrick Adams' : 28,\n",
    "# 'Jessica Baker'  : 14,\n",
    "# 'Peter Hunt'   : 4,\n",
    "# 'Daniel Lloyd'  : 6,\n",
    "# 'John Owen'   : 1.5,\n",
    "# 'Jennifer Phillips'  : 10,\n",
    "# 'Courtney Rogers'   : 4.5,\n",
    "# 'Anne Robinson'  : 2,\n",
    "# })\n",
    "\n",
    "# top_5 = employees_work_exp.sort_values(ascending = False).head(5)\n",
    "# print(top_5)"
   ]
  },
  {
   "cell_type": "code",
   "execution_count": null,
   "id": "4ba655c1-8b11-4cea-9d95-8d4ba1e3f630",
   "metadata": {},
   "outputs": [],
   "source": []
  }
 ],
 "metadata": {
  "kernelspec": {
   "display_name": "Python 3 (ipykernel)",
   "language": "python",
   "name": "python3"
  },
  "language_info": {
   "codemirror_mode": {
    "name": "ipython",
    "version": 3
   },
   "file_extension": ".py",
   "mimetype": "text/x-python",
   "name": "python",
   "nbconvert_exporter": "python",
   "pygments_lexer": "ipython3",
   "version": "3.12.7"
  }
 },
 "nbformat": 4,
 "nbformat_minor": 5
}
